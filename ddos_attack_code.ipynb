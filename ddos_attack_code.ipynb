{
 "cells": [
  {
   "cell_type": "code",
   "execution_count": 1,
   "metadata": {
    "papermill": {
     "duration": 0.021349,
     "end_time": "2021-11-29T18:40:55.089045",
     "exception": false,
     "start_time": "2021-11-29T18:40:55.067696",
     "status": "completed"
    },
    "tags": []
   },
   "outputs": [],
   "source": [
    "# Importing Libraries"
   ]
  },
  {
   "cell_type": "code",
   "execution_count": 2,
   "metadata": {
    "_cell_guid": "79c7e3d0-c299-4dcb-8224-4455121ee9b0",
    "_uuid": "d629ff2d2480ee46fbb7e2d37f6b5fab8052498a",
    "execution": {
     "iopub.execute_input": "2022-02-18T17:42:20.756113Z",
     "iopub.status.busy": "2022-02-18T17:42:20.755285Z",
     "iopub.status.idle": "2022-02-18T17:42:28.648372Z",
     "shell.execute_reply": "2022-02-18T17:42:28.647609Z",
     "shell.execute_reply.started": "2022-02-18T17:42:20.756Z"
    },
    "papermill": {
     "duration": 7.798722,
     "end_time": "2021-11-29T18:41:02.909475",
     "exception": false,
     "start_time": "2021-11-29T18:40:55.110753",
     "status": "completed"
    },
    "tags": []
   },
   "outputs": [],
   "source": [
    "import numpy as np\n",
    "import pandas as pd\n",
    "import os\n",
    "import gc\n",
    "import matplotlib.pyplot as plt\n",
    "import seaborn as sns\n",
    "import plotly.express as px\n",
    "#import libraries\n",
    "from sklearn.model_selection import train_test_split\n",
    "from sklearn.metrics import roc_curve, auc\n",
    "from sklearn import metrics\n",
    "from tensorflow.keras.models import Sequential\n",
    "from tensorflow.keras.layers import Dense, Activation,Dropout\n",
    "from tensorflow.keras.callbacks import ModelCheckpoint, EarlyStopping, ReduceLROnPlateau\n",
    "from tensorflow.keras.optimizers import SGD,Adam\n",
    "import keras\n",
    "# Conv1D + LSTM\n",
    "from keras.layers import Conv1D,MaxPooling1D\n",
    "from keras.layers import LSTM\n",
    "from keras.layers import Dense,Dropout\n",
    "from keras.layers import Flatten"
   ]
  },
  {
   "cell_type": "code",
   "execution_count": 3,
   "metadata": {
    "papermill": {
     "duration": 0.022128,
     "end_time": "2021-11-29T18:41:02.954029",
     "exception": false,
     "start_time": "2021-11-29T18:41:02.931901",
     "status": "completed"
    },
    "tags": []
   },
   "outputs": [],
   "source": [
    "# Reading Data"
   ]
  },
  {
   "cell_type": "code",
   "execution_count": 4,
   "metadata": {
    "execution": {
     "iopub.execute_input": "2022-02-18T17:42:28.660349Z",
     "iopub.status.busy": "2022-02-18T17:42:28.660103Z",
     "iopub.status.idle": "2022-02-18T17:42:28.670932Z",
     "shell.execute_reply": "2022-02-18T17:42:28.670115Z",
     "shell.execute_reply.started": "2022-02-18T17:42:28.660306Z"
    }
   },
   "outputs": [],
   "source": [
    "col_list = [\"sport\",\"dport\", \n",
    "            \"pkts\",\"bytes\", \n",
    "            \"state\",\"dur\", \n",
    "            \"mean\",\"stddev\", \n",
    "            \"sum\",\"min\", \n",
    "            \"max\",\"spkts\", \n",
    "            \"dpkts\",\"sbytes\", \n",
    "            \"dbytes\",\"rate\", \n",
    "            \"srate\",\"drate\",\n",
    "            \"attack\"\n",
    "           ]"
   ]
  },
  {
   "cell_type": "code",
   "execution_count": 6,
   "metadata": {
    "execution": {
     "iopub.execute_input": "2022-02-18T17:42:28.673242Z",
     "iopub.status.busy": "2022-02-18T17:42:28.672903Z",
     "iopub.status.idle": "2022-02-18T17:43:58.401466Z",
     "shell.execute_reply": "2022-02-18T17:43:58.400561Z",
     "shell.execute_reply.started": "2022-02-18T17:42:28.673206Z"
    }
   },
   "outputs": [
    {
     "name": "stdout",
     "output_type": "stream",
     "text": [
      "            sport  dport   pkts    bytes state        dur      mean    stddev  \\\n",
      "0          3456.0   80.0  10242  9972888   CON  75.066856  4.989200  0.006723   \n",
      "1          8080.0   80.0  10246  9978140   CON  75.066925  4.989192  0.006743   \n",
      "2            80.0   80.0   5116  4911913   INT  75.063446  4.990958  0.005609   \n",
      "3            80.0   80.0   5117  4789010   CON  75.063515  4.990964  0.003873   \n",
      "4           365.0  565.0   2753   165180   INT  75.240524  4.954834  0.048765   \n",
      "...           ...    ...    ...      ...   ...        ...       ...       ...   \n",
      "19548230  42343.0   80.0      1      154   REQ   0.000000  0.000000  0.000000   \n",
      "19548231  42344.0   80.0      1      154   REQ   0.000000  0.000000  0.000000   \n",
      "19548232  42345.0   80.0      1      154   REQ   0.000000  0.000000  0.000000   \n",
      "19548233      NaN    NaN      5      300   CON   3.098834  3.098834  0.000000   \n",
      "19548234      NaN    NaN      3      180   CON   1.032404  1.032404  0.000000   \n",
      "\n",
      "                sum       min       max  spkts  dpkts   sbytes   dbytes  \\\n",
      "0         74.837997  4.968420  4.999928   5124   5118  4877519  5095369   \n",
      "1         74.837875  4.968407  4.999997   5122   5124  5153910  4824230   \n",
      "2         74.864372  4.985135  4.999931   5116      0  4911913        0   \n",
      "3         74.864456  4.985136  4.999931   5117      0  4789010        0   \n",
      "4         74.322510  4.826530  4.997365   2753      0   165180        0   \n",
      "...             ...       ...       ...    ...    ...      ...      ...   \n",
      "19548230   0.000000  0.000000  0.000000      1      0      154        0   \n",
      "19548231   0.000000  0.000000  0.000000      1      0      154        0   \n",
      "19548232   0.000000  0.000000  0.000000      1      0      154        0   \n",
      "19548233   3.098834  3.098834  3.098834      4      1      240       60   \n",
      "19548234   1.032404  1.032404  1.032404      2      1      120       60   \n",
      "\n",
      "                rate      srate      drate  attack  \n",
      "0         136.425049  68.245834  68.165901       0  \n",
      "1         136.478210  68.219124  68.245766       0  \n",
      "2          68.142357  68.142357   0.000000       0  \n",
      "3          68.155617  68.155617   0.000000       0  \n",
      "4          36.576035  36.576035   0.000000       0  \n",
      "...              ...        ...        ...     ...  \n",
      "19548230    0.000000   0.000000   0.000000       1  \n",
      "19548231    0.000000   0.000000   0.000000       1  \n",
      "19548232    0.000000   0.000000   0.000000       1  \n",
      "19548233    1.290808   0.968106   0.000000       1  \n",
      "19548234    1.937226   0.968613   0.000000       1  \n",
      "\n",
      "[19548235 rows x 19 columns]\n"
     ]
    }
   ],
   "source": [
    "df_num=pd.read_csv('./archive/ddos/DDoS_TCP.csv',sep=';',usecols=col_list)#nrows=50000,\n",
    "print(df_num)"
   ]
  },
  {
   "cell_type": "code",
   "execution_count": 7,
   "metadata": {
    "execution": {
     "iopub.execute_input": "2022-02-18T17:43:58.403396Z",
     "iopub.status.busy": "2022-02-18T17:43:58.403132Z",
     "iopub.status.idle": "2022-02-18T17:44:04.972921Z",
     "shell.execute_reply": "2022-02-18T17:44:04.972155Z",
     "shell.execute_reply.started": "2022-02-18T17:43:58.403359Z"
    }
   },
   "outputs": [
    {
     "name": "stderr",
     "output_type": "stream",
     "text": [
      "C:\\Users\\SIDDHARTH SINGH\\anaconda3\\lib\\site-packages\\sklearn\\preprocessing\\_label.py:115: DataConversionWarning: A column-vector y was passed when a 1d array was expected. Please change the shape of y to (n_samples, ), for example using ravel().\n",
      "  y = column_or_1d(y, warn=True)\n"
     ]
    }
   ],
   "source": [
    "from sklearn.preprocessing import LabelEncoder\n",
    "from sklearn import preprocessing, metrics\n",
    "cat_features = ['state']\n",
    "encoder = LabelEncoder()\n",
    "label_encoder = preprocessing.LabelEncoder()\n",
    "for feature in cat_features:\n",
    "    encoded = label_encoder.fit_transform(df_num[cat_features])\n",
    "    df_num['state'] = encoded"
   ]
  },
  {
   "cell_type": "code",
   "execution_count": 8,
   "metadata": {
    "execution": {
     "iopub.execute_input": "2022-02-18T17:44:04.979526Z",
     "iopub.status.busy": "2022-02-18T17:44:04.977493Z",
     "iopub.status.idle": "2022-02-18T17:44:04.990951Z",
     "shell.execute_reply": "2022-02-18T17:44:04.990339Z",
     "shell.execute_reply.started": "2022-02-18T17:44:04.979484Z"
    }
   },
   "outputs": [
    {
     "data": {
      "text/plain": [
       "19548235"
      ]
     },
     "execution_count": 8,
     "metadata": {},
     "output_type": "execute_result"
    }
   ],
   "source": [
    "len(df_num)"
   ]
  },
  {
   "cell_type": "code",
   "execution_count": null,
   "metadata": {
    "papermill": {
     "duration": 0.022476,
     "end_time": "2021-11-29T18:41:13.955318",
     "exception": false,
     "start_time": "2021-11-29T18:41:13.932842",
     "status": "completed"
    },
    "tags": []
   },
   "outputs": [],
   "source": [
    "# Data Preparation"
   ]
  },
  {
   "cell_type": "code",
   "execution_count": 9,
   "metadata": {
    "execution": {
     "iopub.execute_input": "2022-02-18T17:44:04.997412Z",
     "iopub.status.busy": "2022-02-18T17:44:04.995357Z",
     "iopub.status.idle": "2022-02-18T17:44:05.009116Z",
     "shell.execute_reply": "2022-02-18T17:44:05.008358Z",
     "shell.execute_reply.started": "2022-02-18T17:44:04.997376Z"
    },
    "papermill": {
     "duration": 0.034082,
     "end_time": "2021-11-29T18:41:14.012227",
     "exception": false,
     "start_time": "2021-11-29T18:41:13.978145",
     "status": "completed"
    },
    "tags": []
   },
   "outputs": [
    {
     "data": {
      "text/plain": [
       "sport     float64\n",
       "dport     float64\n",
       "pkts        int64\n",
       "bytes       int64\n",
       "state       int32\n",
       "dur       float64\n",
       "mean      float64\n",
       "stddev    float64\n",
       "sum       float64\n",
       "min       float64\n",
       "max       float64\n",
       "spkts       int64\n",
       "dpkts       int64\n",
       "sbytes      int64\n",
       "dbytes      int64\n",
       "rate      float64\n",
       "srate     float64\n",
       "drate     float64\n",
       "attack      int64\n",
       "dtype: object"
      ]
     },
     "execution_count": 9,
     "metadata": {},
     "output_type": "execute_result"
    }
   ],
   "source": [
    "df_num.dtypes"
   ]
  },
  {
   "cell_type": "code",
   "execution_count": null,
   "metadata": {
    "papermill": {
     "duration": 0.02423,
     "end_time": "2021-11-29T18:41:14.591278",
     "exception": false,
     "start_time": "2021-11-29T18:41:14.567048",
     "status": "completed"
    },
    "tags": []
   },
   "outputs": [],
   "source": [
    "### Removing nan values"
   ]
  },
  {
   "cell_type": "code",
   "execution_count": 10,
   "metadata": {
    "execution": {
     "iopub.execute_input": "2022-02-18T17:44:05.014687Z",
     "iopub.status.busy": "2022-02-18T17:44:05.012756Z",
     "iopub.status.idle": "2022-02-18T17:44:09.347754Z",
     "shell.execute_reply": "2022-02-18T17:44:09.346239Z",
     "shell.execute_reply.started": "2022-02-18T17:44:05.014651Z"
    },
    "papermill": {
     "duration": 0.448847,
     "end_time": "2021-11-29T18:41:15.063824",
     "exception": false,
     "start_time": "2021-11-29T18:41:14.614977",
     "status": "completed"
    },
    "tags": []
   },
   "outputs": [
    {
     "name": "stdout",
     "output_type": "stream",
     "text": [
      "1022\n",
      "0\n"
     ]
    }
   ],
   "source": [
    "print(df_num.isna().sum().sum())\n",
    "df_num=df_num.dropna()\n",
    "print(df_num.isna().sum().sum())"
   ]
  },
  {
   "cell_type": "code",
   "execution_count": 11,
   "metadata": {
    "execution": {
     "iopub.execute_input": "2022-02-18T17:44:09.349285Z",
     "iopub.status.busy": "2022-02-18T17:44:09.348944Z",
     "iopub.status.idle": "2022-02-18T17:44:10.252747Z",
     "shell.execute_reply": "2022-02-18T17:44:10.251912Z",
     "shell.execute_reply.started": "2022-02-18T17:44:09.349246Z"
    },
    "papermill": {
     "duration": 0.376234,
     "end_time": "2021-11-29T18:41:15.464277",
     "exception": false,
     "start_time": "2021-11-29T18:41:15.088043",
     "status": "completed"
    },
    "tags": []
   },
   "outputs": [
    {
     "data": {
      "text/html": [
       "<div>\n",
       "<style scoped>\n",
       "    .dataframe tbody tr th:only-of-type {\n",
       "        vertical-align: middle;\n",
       "    }\n",
       "\n",
       "    .dataframe tbody tr th {\n",
       "        vertical-align: top;\n",
       "    }\n",
       "\n",
       "    .dataframe thead th {\n",
       "        text-align: right;\n",
       "    }\n",
       "</style>\n",
       "<table border=\"1\" class=\"dataframe\">\n",
       "  <thead>\n",
       "    <tr style=\"text-align: right;\">\n",
       "      <th></th>\n",
       "      <th>sport</th>\n",
       "      <th>dport</th>\n",
       "      <th>pkts</th>\n",
       "      <th>bytes</th>\n",
       "      <th>state</th>\n",
       "      <th>dur</th>\n",
       "      <th>mean</th>\n",
       "      <th>stddev</th>\n",
       "      <th>sum</th>\n",
       "      <th>min</th>\n",
       "      <th>max</th>\n",
       "      <th>spkts</th>\n",
       "      <th>dpkts</th>\n",
       "      <th>sbytes</th>\n",
       "      <th>dbytes</th>\n",
       "      <th>rate</th>\n",
       "      <th>srate</th>\n",
       "      <th>drate</th>\n",
       "      <th>attack</th>\n",
       "    </tr>\n",
       "  </thead>\n",
       "  <tbody>\n",
       "    <tr>\n",
       "      <th>13044748</th>\n",
       "      <td>55038.0</td>\n",
       "      <td>80.0</td>\n",
       "      <td>1</td>\n",
       "      <td>154</td>\n",
       "      <td>5</td>\n",
       "      <td>0.000000</td>\n",
       "      <td>0.000000</td>\n",
       "      <td>0.000000</td>\n",
       "      <td>0.000000</td>\n",
       "      <td>0.000000</td>\n",
       "      <td>0.000000</td>\n",
       "      <td>1</td>\n",
       "      <td>0</td>\n",
       "      <td>154</td>\n",
       "      <td>0</td>\n",
       "      <td>0.000000</td>\n",
       "      <td>0.000000</td>\n",
       "      <td>0.0</td>\n",
       "      <td>1</td>\n",
       "    </tr>\n",
       "    <tr>\n",
       "      <th>7176901</th>\n",
       "      <td>43213.0</td>\n",
       "      <td>80.0</td>\n",
       "      <td>3</td>\n",
       "      <td>462</td>\n",
       "      <td>5</td>\n",
       "      <td>16.984003</td>\n",
       "      <td>0.000000</td>\n",
       "      <td>0.000000</td>\n",
       "      <td>0.000000</td>\n",
       "      <td>0.000000</td>\n",
       "      <td>0.000000</td>\n",
       "      <td>3</td>\n",
       "      <td>0</td>\n",
       "      <td>462</td>\n",
       "      <td>0</td>\n",
       "      <td>0.117758</td>\n",
       "      <td>0.117758</td>\n",
       "      <td>0.0</td>\n",
       "      <td>1</td>\n",
       "    </tr>\n",
       "    <tr>\n",
       "      <th>3512385</th>\n",
       "      <td>23714.0</td>\n",
       "      <td>80.0</td>\n",
       "      <td>2</td>\n",
       "      <td>308</td>\n",
       "      <td>5</td>\n",
       "      <td>3.819531</td>\n",
       "      <td>3.819531</td>\n",
       "      <td>0.000000</td>\n",
       "      <td>3.819531</td>\n",
       "      <td>3.819531</td>\n",
       "      <td>3.819531</td>\n",
       "      <td>2</td>\n",
       "      <td>0</td>\n",
       "      <td>308</td>\n",
       "      <td>0</td>\n",
       "      <td>0.261812</td>\n",
       "      <td>0.261812</td>\n",
       "      <td>0.0</td>\n",
       "      <td>1</td>\n",
       "    </tr>\n",
       "    <tr>\n",
       "      <th>7818116</th>\n",
       "      <td>21151.0</td>\n",
       "      <td>80.0</td>\n",
       "      <td>4</td>\n",
       "      <td>522</td>\n",
       "      <td>7</td>\n",
       "      <td>8.461223</td>\n",
       "      <td>1.578547</td>\n",
       "      <td>1.578547</td>\n",
       "      <td>3.157094</td>\n",
       "      <td>0.000000</td>\n",
       "      <td>3.157094</td>\n",
       "      <td>3</td>\n",
       "      <td>1</td>\n",
       "      <td>462</td>\n",
       "      <td>60</td>\n",
       "      <td>0.354559</td>\n",
       "      <td>0.236372</td>\n",
       "      <td>0.0</td>\n",
       "      <td>1</td>\n",
       "    </tr>\n",
       "    <tr>\n",
       "      <th>14488377</th>\n",
       "      <td>38812.0</td>\n",
       "      <td>80.0</td>\n",
       "      <td>4</td>\n",
       "      <td>616</td>\n",
       "      <td>5</td>\n",
       "      <td>51.924877</td>\n",
       "      <td>0.000000</td>\n",
       "      <td>0.000000</td>\n",
       "      <td>0.000000</td>\n",
       "      <td>0.000000</td>\n",
       "      <td>0.000000</td>\n",
       "      <td>4</td>\n",
       "      <td>0</td>\n",
       "      <td>616</td>\n",
       "      <td>0</td>\n",
       "      <td>0.057776</td>\n",
       "      <td>0.057776</td>\n",
       "      <td>0.0</td>\n",
       "      <td>1</td>\n",
       "    </tr>\n",
       "  </tbody>\n",
       "</table>\n",
       "</div>"
      ],
      "text/plain": [
       "            sport  dport  pkts  bytes  state        dur      mean    stddev  \\\n",
       "13044748  55038.0   80.0     1    154      5   0.000000  0.000000  0.000000   \n",
       "7176901   43213.0   80.0     3    462      5  16.984003  0.000000  0.000000   \n",
       "3512385   23714.0   80.0     2    308      5   3.819531  3.819531  0.000000   \n",
       "7818116   21151.0   80.0     4    522      7   8.461223  1.578547  1.578547   \n",
       "14488377  38812.0   80.0     4    616      5  51.924877  0.000000  0.000000   \n",
       "\n",
       "               sum       min       max  spkts  dpkts  sbytes  dbytes  \\\n",
       "13044748  0.000000  0.000000  0.000000      1      0     154       0   \n",
       "7176901   0.000000  0.000000  0.000000      3      0     462       0   \n",
       "3512385   3.819531  3.819531  3.819531      2      0     308       0   \n",
       "7818116   3.157094  0.000000  3.157094      3      1     462      60   \n",
       "14488377  0.000000  0.000000  0.000000      4      0     616       0   \n",
       "\n",
       "              rate     srate  drate  attack  \n",
       "13044748  0.000000  0.000000    0.0       1  \n",
       "7176901   0.117758  0.117758    0.0       1  \n",
       "3512385   0.261812  0.261812    0.0       1  \n",
       "7818116   0.354559  0.236372    0.0       1  \n",
       "14488377  0.057776  0.057776    0.0       1  "
      ]
     },
     "execution_count": 11,
     "metadata": {},
     "output_type": "execute_result"
    }
   ],
   "source": [
    "df_num.sample(5)"
   ]
  },
  {
   "cell_type": "code",
   "execution_count": null,
   "metadata": {
    "papermill": {
     "duration": 0.024678,
     "end_time": "2021-11-29T18:41:15.513843",
     "exception": false,
     "start_time": "2021-11-29T18:41:15.489165",
     "status": "completed"
    },
    "tags": []
   },
   "outputs": [],
   "source": [
    "# Distribution Classes"
   ]
  },
  {
   "cell_type": "code",
   "execution_count": 12,
   "metadata": {
    "execution": {
     "iopub.execute_input": "2022-02-18T17:44:10.256231Z",
     "iopub.status.busy": "2022-02-18T17:44:10.25589Z",
     "iopub.status.idle": "2022-02-18T17:44:10.525392Z",
     "shell.execute_reply": "2022-02-18T17:44:10.524543Z",
     "shell.execute_reply.started": "2022-02-18T17:44:10.256193Z"
    },
    "papermill": {
     "duration": 0.089589,
     "end_time": "2021-11-29T18:41:15.628262",
     "exception": false,
     "start_time": "2021-11-29T18:41:15.538673",
     "status": "completed"
    },
    "tags": []
   },
   "outputs": [
    {
     "data": {
      "text/plain": [
       "attack\n",
       "0         620\n",
       "1    19547104\n",
       "dtype: int64"
      ]
     },
     "execution_count": 12,
     "metadata": {},
     "output_type": "execute_result"
    }
   ],
   "source": [
    "df_num.groupby('attack').size()"
   ]
  },
  {
   "cell_type": "code",
   "execution_count": null,
   "metadata": {
    "papermill": {
     "duration": 0.025159,
     "end_time": "2021-11-29T18:41:15.678927",
     "exception": false,
     "start_time": "2021-11-29T18:41:15.653768",
     "status": "completed"
    },
    "tags": []
   },
   "outputs": [],
   "source": [
    "# Remove Useless Features"
   ]
  },
  {
   "cell_type": "code",
   "execution_count": 13,
   "metadata": {
    "execution": {
     "iopub.execute_input": "2022-02-18T17:44:10.527033Z",
     "iopub.status.busy": "2022-02-18T17:44:10.52671Z",
     "iopub.status.idle": "2022-02-18T17:44:12.356561Z",
     "shell.execute_reply": "2022-02-18T17:44:12.355783Z",
     "shell.execute_reply.started": "2022-02-18T17:44:10.526995Z"
    },
    "papermill": {
     "duration": 1.383705,
     "end_time": "2021-11-29T18:41:17.088171",
     "exception": false,
     "start_time": "2021-11-29T18:41:15.704466",
     "status": "completed"
    },
    "tags": []
   },
   "outputs": [],
   "source": [
    "for col in (df_num.iloc[:,:-1].columns):\n",
    "    if(df_num[col].min()==df_num[col].max()):\n",
    "            df_num.drop(col, axis=1, inplace=True)"
   ]
  },
  {
   "cell_type": "code",
   "execution_count": null,
   "metadata": {
    "papermill": {
     "duration": 0.024896,
     "end_time": "2021-11-29T18:41:17.138764",
     "exception": false,
     "start_time": "2021-11-29T18:41:17.113868",
     "status": "completed"
    },
    "tags": []
   },
   "outputs": [],
   "source": [
    "# Feature Scaling"
   ]
  },
  {
   "cell_type": "code",
   "execution_count": 14,
   "metadata": {
    "execution": {
     "iopub.execute_input": "2022-02-18T17:44:12.358049Z",
     "iopub.status.busy": "2022-02-18T17:44:12.357785Z",
     "iopub.status.idle": "2022-02-18T17:44:18.420802Z",
     "shell.execute_reply": "2022-02-18T17:44:18.420109Z",
     "shell.execute_reply.started": "2022-02-18T17:44:12.358003Z"
    },
    "papermill": {
     "duration": 0.498097,
     "end_time": "2021-11-29T18:41:17.662524",
     "exception": false,
     "start_time": "2021-11-29T18:41:17.164427",
     "status": "completed"
    },
    "tags": []
   },
   "outputs": [
    {
     "data": {
      "text/html": [
       "<div>\n",
       "<style scoped>\n",
       "    .dataframe tbody tr th:only-of-type {\n",
       "        vertical-align: middle;\n",
       "    }\n",
       "\n",
       "    .dataframe tbody tr th {\n",
       "        vertical-align: top;\n",
       "    }\n",
       "\n",
       "    .dataframe thead th {\n",
       "        text-align: right;\n",
       "    }\n",
       "</style>\n",
       "<table border=\"1\" class=\"dataframe\">\n",
       "  <thead>\n",
       "    <tr style=\"text-align: right;\">\n",
       "      <th></th>\n",
       "      <th>sport</th>\n",
       "      <th>dport</th>\n",
       "      <th>pkts</th>\n",
       "      <th>bytes</th>\n",
       "      <th>state</th>\n",
       "      <th>dur</th>\n",
       "      <th>mean</th>\n",
       "      <th>stddev</th>\n",
       "      <th>sum</th>\n",
       "      <th>min</th>\n",
       "      <th>max</th>\n",
       "      <th>spkts</th>\n",
       "      <th>dpkts</th>\n",
       "      <th>sbytes</th>\n",
       "      <th>dbytes</th>\n",
       "      <th>rate</th>\n",
       "      <th>srate</th>\n",
       "      <th>drate</th>\n",
       "      <th>attack</th>\n",
       "    </tr>\n",
       "  </thead>\n",
       "  <tbody>\n",
       "    <tr>\n",
       "      <th>0</th>\n",
       "      <td>-1.548194</td>\n",
       "      <td>-0.037286</td>\n",
       "      <td>675.736035</td>\n",
       "      <td>703.160651</td>\n",
       "      <td>-5.246894</td>\n",
       "      <td>3.957576</td>\n",
       "      <td>2.468846</td>\n",
       "      <td>-0.842947</td>\n",
       "      <td>20.190914</td>\n",
       "      <td>3.146913</td>\n",
       "      <td>1.296183</td>\n",
       "      <td>505.592497</td>\n",
       "      <td>786.258320</td>\n",
       "      <td>540.080391</td>\n",
       "      <td>805.656119</td>\n",
       "      <td>58.227191</td>\n",
       "      <td>119.466340</td>\n",
       "      <td>195.626713</td>\n",
       "      <td>0</td>\n",
       "    </tr>\n",
       "    <tr>\n",
       "      <th>1</th>\n",
       "      <td>-1.303736</td>\n",
       "      <td>-0.037286</td>\n",
       "      <td>676.000054</td>\n",
       "      <td>703.530979</td>\n",
       "      <td>-5.246894</td>\n",
       "      <td>3.957581</td>\n",
       "      <td>2.468840</td>\n",
       "      <td>-0.842925</td>\n",
       "      <td>20.190879</td>\n",
       "      <td>3.146903</td>\n",
       "      <td>1.296216</td>\n",
       "      <td>505.395001</td>\n",
       "      <td>787.180137</td>\n",
       "      <td>570.688614</td>\n",
       "      <td>762.784607</td>\n",
       "      <td>58.249946</td>\n",
       "      <td>119.419450</td>\n",
       "      <td>195.855940</td>\n",
       "      <td>0</td>\n",
       "    </tr>\n",
       "    <tr>\n",
       "      <th>2</th>\n",
       "      <td>-1.726673</td>\n",
       "      <td>-0.037286</td>\n",
       "      <td>337.396105</td>\n",
       "      <td>346.302181</td>\n",
       "      <td>-2.882854</td>\n",
       "      <td>3.957337</td>\n",
       "      <td>2.470041</td>\n",
       "      <td>-0.844178</td>\n",
       "      <td>20.198370</td>\n",
       "      <td>3.158983</td>\n",
       "      <td>1.296184</td>\n",
       "      <td>504.802514</td>\n",
       "      <td>-0.051547</td>\n",
       "      <td>543.889267</td>\n",
       "      <td>-0.005093</td>\n",
       "      <td>28.999581</td>\n",
       "      <td>119.284684</td>\n",
       "      <td>-0.021749</td>\n",
       "      <td>0</td>\n",
       "    </tr>\n",
       "    <tr>\n",
       "      <th>3</th>\n",
       "      <td>-1.726673</td>\n",
       "      <td>-0.037286</td>\n",
       "      <td>337.462110</td>\n",
       "      <td>337.636069</td>\n",
       "      <td>-5.246894</td>\n",
       "      <td>3.957342</td>\n",
       "      <td>2.470045</td>\n",
       "      <td>-0.846095</td>\n",
       "      <td>20.198394</td>\n",
       "      <td>3.158984</td>\n",
       "      <td>1.296184</td>\n",
       "      <td>504.901262</td>\n",
       "      <td>-0.051547</td>\n",
       "      <td>530.278685</td>\n",
       "      <td>-0.005093</td>\n",
       "      <td>29.005256</td>\n",
       "      <td>119.307963</td>\n",
       "      <td>-0.021749</td>\n",
       "      <td>0</td>\n",
       "    </tr>\n",
       "    <tr>\n",
       "      <th>4</th>\n",
       "      <td>-1.711606</td>\n",
       "      <td>0.261762</td>\n",
       "      <td>181.427074</td>\n",
       "      <td>11.601481</td>\n",
       "      <td>-2.882854</td>\n",
       "      <td>3.969784</td>\n",
       "      <td>2.445479</td>\n",
       "      <td>-0.796511</td>\n",
       "      <td>20.045182</td>\n",
       "      <td>3.044447</td>\n",
       "      <td>1.294951</td>\n",
       "      <td>271.461374</td>\n",
       "      <td>-0.051547</td>\n",
       "      <td>18.224300</td>\n",
       "      <td>-0.005093</td>\n",
       "      <td>15.487984</td>\n",
       "      <td>63.869466</td>\n",
       "      <td>-0.021749</td>\n",
       "      <td>0</td>\n",
       "    </tr>\n",
       "  </tbody>\n",
       "</table>\n",
       "</div>"
      ],
      "text/plain": [
       "      sport     dport        pkts       bytes     state       dur      mean  \\\n",
       "0 -1.548194 -0.037286  675.736035  703.160651 -5.246894  3.957576  2.468846   \n",
       "1 -1.303736 -0.037286  676.000054  703.530979 -5.246894  3.957581  2.468840   \n",
       "2 -1.726673 -0.037286  337.396105  346.302181 -2.882854  3.957337  2.470041   \n",
       "3 -1.726673 -0.037286  337.462110  337.636069 -5.246894  3.957342  2.470045   \n",
       "4 -1.711606  0.261762  181.427074   11.601481 -2.882854  3.969784  2.445479   \n",
       "\n",
       "     stddev        sum       min       max       spkts       dpkts  \\\n",
       "0 -0.842947  20.190914  3.146913  1.296183  505.592497  786.258320   \n",
       "1 -0.842925  20.190879  3.146903  1.296216  505.395001  787.180137   \n",
       "2 -0.844178  20.198370  3.158983  1.296184  504.802514   -0.051547   \n",
       "3 -0.846095  20.198394  3.158984  1.296184  504.901262   -0.051547   \n",
       "4 -0.796511  20.045182  3.044447  1.294951  271.461374   -0.051547   \n",
       "\n",
       "       sbytes      dbytes       rate       srate       drate  attack  \n",
       "0  540.080391  805.656119  58.227191  119.466340  195.626713       0  \n",
       "1  570.688614  762.784607  58.249946  119.419450  195.855940       0  \n",
       "2  543.889267   -0.005093  28.999581  119.284684   -0.021749       0  \n",
       "3  530.278685   -0.005093  29.005256  119.307963   -0.021749       0  \n",
       "4   18.224300   -0.005093  15.487984   63.869466   -0.021749       0  "
      ]
     },
     "execution_count": 14,
     "metadata": {},
     "output_type": "execute_result"
    }
   ],
   "source": [
    "# Normalization OR Standardization\n",
    "def standardize(df,col):\n",
    "    df[col]= (df[col]-df[col].mean())/(df[col].std()) # Standardization\n",
    "    #df[col]= (df[col]-df[col].min())/(df[col].max()-df[col].min()) #Normalization\n",
    "\n",
    "for i in (df_num.iloc[:,:-1].columns):\n",
    "    standardize (df_num,i)\n",
    "\n",
    "df_num.head()"
   ]
  },
  {
   "cell_type": "code",
   "execution_count": 15,
   "metadata": {
    "execution": {
     "iopub.execute_input": "2022-02-18T17:44:18.422653Z",
     "iopub.status.busy": "2022-02-18T17:44:18.422189Z",
     "iopub.status.idle": "2022-02-18T17:44:18.426665Z",
     "shell.execute_reply": "2022-02-18T17:44:18.425837Z",
     "shell.execute_reply.started": "2022-02-18T17:44:18.422616Z"
    },
    "papermill": {
     "duration": 0.03376,
     "end_time": "2021-11-29T18:41:17.722652",
     "exception": false,
     "start_time": "2021-11-29T18:41:17.688892",
     "status": "completed"
    },
    "tags": []
   },
   "outputs": [],
   "source": [
    "target=['attack']\n",
    "features = [c for c in df_num.columns if c!=\"attack\"]"
   ]
  },
  {
   "cell_type": "code",
   "execution_count": null,
   "metadata": {
    "papermill": {
     "duration": 0.025944,
     "end_time": "2021-11-29T18:41:17.774994",
     "exception": false,
     "start_time": "2021-11-29T18:41:17.74905",
     "status": "completed"
    },
    "tags": []
   },
   "outputs": [],
   "source": [
    "# Split DataSet"
   ]
  },
  {
   "cell_type": "code",
   "execution_count": 16,
   "metadata": {
    "execution": {
     "iopub.execute_input": "2022-02-18T17:44:18.428494Z",
     "iopub.status.busy": "2022-02-18T17:44:18.42804Z",
     "iopub.status.idle": "2022-02-18T17:44:23.429824Z",
     "shell.execute_reply": "2022-02-18T17:44:23.42914Z",
     "shell.execute_reply.started": "2022-02-18T17:44:18.428456Z"
    },
    "papermill": {
     "duration": 0.231328,
     "end_time": "2021-11-29T18:41:18.033501",
     "exception": false,
     "start_time": "2021-11-29T18:41:17.802173",
     "status": "completed"
    },
    "tags": []
   },
   "outputs": [
    {
     "data": {
      "text/plain": [
       "((19547724, 18), (19547724, 1))"
      ]
     },
     "execution_count": 16,
     "metadata": {},
     "output_type": "execute_result"
    }
   ],
   "source": [
    "X = df_num[features].values # Features\n",
    "y = df_num[target].values # Target\n",
    "\n",
    "X=X.astype(np.float32)\n",
    "y=y.astype(np.float32)\n",
    "\n",
    "X.shape,y.shape,"
   ]
  },
  {
   "cell_type": "code",
   "execution_count": 17,
   "metadata": {
    "execution": {
     "iopub.execute_input": "2022-02-18T17:44:23.432481Z",
     "iopub.status.busy": "2022-02-18T17:44:23.430965Z",
     "iopub.status.idle": "2022-02-18T17:44:23.44294Z",
     "shell.execute_reply": "2022-02-18T17:44:23.442131Z",
     "shell.execute_reply.started": "2022-02-18T17:44:23.432439Z"
    }
   },
   "outputs": [],
   "source": [
    "del df_num"
   ]
  },
  {
   "cell_type": "code",
   "execution_count": 18,
   "metadata": {
    "execution": {
     "iopub.execute_input": "2022-02-18T17:44:23.444663Z",
     "iopub.status.busy": "2022-02-18T17:44:23.444403Z",
     "iopub.status.idle": "2022-02-18T17:44:23.661347Z",
     "shell.execute_reply": "2022-02-18T17:44:23.660601Z",
     "shell.execute_reply.started": "2022-02-18T17:44:23.444626Z"
    }
   },
   "outputs": [
    {
     "data": {
      "text/plain": [
       "415"
      ]
     },
     "execution_count": 18,
     "metadata": {},
     "output_type": "execute_result"
    }
   ],
   "source": [
    "gc.collect()"
   ]
  },
  {
   "cell_type": "code",
   "execution_count": 19,
   "metadata": {
    "execution": {
     "iopub.execute_input": "2022-02-18T17:44:23.664476Z",
     "iopub.status.busy": "2022-02-18T17:44:23.664196Z",
     "iopub.status.idle": "2022-02-18T17:44:31.838749Z",
     "shell.execute_reply": "2022-02-18T17:44:31.837808Z",
     "shell.execute_reply.started": "2022-02-18T17:44:23.664441Z"
    },
    "papermill": {
     "duration": 0.418461,
     "end_time": "2021-11-29T18:41:18.479491",
     "exception": false,
     "start_time": "2021-11-29T18:41:18.06103",
     "status": "completed"
    },
    "tags": []
   },
   "outputs": [],
   "source": [
    "from sklearn.model_selection import train_test_split\n",
    "X_train, X_test, y_train, y_test = train_test_split(X, y, test_size=0.2, random_state=12)"
   ]
  },
  {
   "cell_type": "code",
   "execution_count": 20,
   "metadata": {
    "execution": {
     "iopub.execute_input": "2022-02-18T17:44:31.840412Z",
     "iopub.status.busy": "2022-02-18T17:44:31.840134Z",
     "iopub.status.idle": "2022-02-18T17:44:31.847851Z",
     "shell.execute_reply": "2022-02-18T17:44:31.847073Z",
     "shell.execute_reply.started": "2022-02-18T17:44:31.840372Z"
    },
    "papermill": {
     "duration": 0.035307,
     "end_time": "2021-11-29T18:41:18.541879",
     "exception": false,
     "start_time": "2021-11-29T18:41:18.506572",
     "status": "completed"
    },
    "tags": []
   },
   "outputs": [
    {
     "data": {
      "text/plain": [
       "((15638179, 18), (3909545, 18), (15638179, 1), (3909545, 1))"
      ]
     },
     "execution_count": 20,
     "metadata": {},
     "output_type": "execute_result"
    }
   ],
   "source": [
    "X_train.shape,X_test.shape,y_train.shape,y_test.shape"
   ]
  },
  {
   "cell_type": "code",
   "execution_count": 21,
   "metadata": {
    "execution": {
     "iopub.execute_input": "2022-02-18T17:44:31.849715Z",
     "iopub.status.busy": "2022-02-18T17:44:31.849347Z",
     "iopub.status.idle": "2022-02-18T17:44:31.858121Z",
     "shell.execute_reply": "2022-02-18T17:44:31.857374Z",
     "shell.execute_reply.started": "2022-02-18T17:44:31.849676Z"
    },
    "papermill": {
     "duration": 0.037058,
     "end_time": "2021-11-29T18:41:18.606568",
     "exception": false,
     "start_time": "2021-11-29T18:41:18.56951",
     "status": "completed"
    },
    "tags": []
   },
   "outputs": [
    {
     "name": "stdout",
     "output_type": "stream",
     "text": [
      "(15638179, 18, 1)\n",
      "(3909545, 18, 1)\n"
     ]
    }
   ],
   "source": [
    "X_train_cnn = np.reshape(X_train, (X_train.shape[0], X_train.shape[1],1))\n",
    "X_test_cnn = np.reshape(X_test, (X_test.shape[0], X_test.shape[1],1))\n",
    "print(X_train_cnn.shape)\n",
    "print(X_test_cnn.shape)\n"
   ]
  },
  {
   "cell_type": "code",
   "execution_count": null,
   "metadata": {
    "papermill": {
     "duration": 0.027577,
     "end_time": "2021-11-29T18:41:18.661978",
     "exception": false,
     "start_time": "2021-11-29T18:41:18.634401",
     "status": "completed"
    },
    "tags": []
   },
   "outputs": [],
   "source": [
    "# Build CNN Model"
   ]
  },
  {
   "cell_type": "code",
   "execution_count": 22,
   "metadata": {
    "execution": {
     "iopub.execute_input": "2022-02-18T17:44:31.860619Z",
     "iopub.status.busy": "2022-02-18T17:44:31.860101Z",
     "iopub.status.idle": "2022-02-18T17:44:31.8684Z",
     "shell.execute_reply": "2022-02-18T17:44:31.867639Z",
     "shell.execute_reply.started": "2022-02-18T17:44:31.860582Z"
    },
    "papermill": {
     "duration": 0.037755,
     "end_time": "2021-11-29T18:41:18.727732",
     "exception": false,
     "start_time": "2021-11-29T18:41:18.689977",
     "status": "completed"
    },
    "tags": []
   },
   "outputs": [],
   "source": [
    "learning_rate=0.001\n",
    "batch_size=5000\n",
    "epochs = 15\n",
    "\n",
    "model_save = ModelCheckpoint('./DDoS_TCP.h5', \n",
    "                             save_best_only = True, \n",
    "                             save_weights_only = True,\n",
    "                             monitor = 'val_loss', \n",
    "                             mode = 'min', verbose = 1)\n",
    "early_stop = EarlyStopping(monitor = 'val_loss', min_delta = 0.0001, \n",
    "                           patience = 8, mode = 'min', verbose = 1,\n",
    "                           restore_best_weights = True)\n",
    "reduce_lr = ReduceLROnPlateau(monitor = 'val_loss', factor = 0.6, \n",
    "                              patience = 4, min_delta = 0.0001, \n",
    "                              mode = 'min', verbose = 1)"
   ]
  },
  {
   "cell_type": "code",
   "execution_count": 23,
   "metadata": {
    "execution": {
     "iopub.execute_input": "2022-02-18T17:44:31.870502Z",
     "iopub.status.busy": "2022-02-18T17:44:31.869824Z",
     "iopub.status.idle": "2022-02-18T17:44:31.877062Z",
     "shell.execute_reply": "2022-02-18T17:44:31.876225Z",
     "shell.execute_reply.started": "2022-02-18T17:44:31.870361Z"
    }
   },
   "outputs": [
    {
     "data": {
      "text/plain": [
       "18"
      ]
     },
     "execution_count": 23,
     "metadata": {},
     "output_type": "execute_result"
    }
   ],
   "source": [
    "X_test.shape[1]"
   ]
  },
  {
   "cell_type": "code",
   "execution_count": null,
   "metadata": {
    "execution": {
     "iopub.execute_input": "2022-02-18T17:44:31.88145Z",
     "iopub.status.busy": "2022-02-18T17:44:31.877999Z",
     "iopub.status.idle": "2022-02-18T18:03:18.469491Z",
     "shell.execute_reply": "2022-02-18T18:03:18.468366Z",
     "shell.execute_reply.started": "2022-02-18T17:44:31.881412Z"
    }
   },
   "outputs": [
    {
     "name": "stdout",
     "output_type": "stream",
     "text": [
      "Epoch 1/15\n",
      "1421/3127 [============>.................] - ETA: 9:58 - loss: 0.0015 - auc: 0.9096"
     ]
    }
   ],
   "source": [
    "model = Sequential()\n",
    "model.add(Conv1D(16,2,input_shape = (X_test.shape[1], 1)))\n",
    "model.add(Conv1D(16,2))\n",
    "model.add(MaxPooling1D(1))\n",
    "\n",
    "\n",
    "model.add(Conv1D(32,2))\n",
    "model.add(Conv1D(32,2))\n",
    "model.add(MaxPooling1D(1))\n",
    "\n",
    "model.add(Conv1D(64,2))\n",
    "model.add(Conv1D(64,2))\n",
    "model.add(MaxPooling1D(1))\n",
    "\n",
    "model.add(Conv1D(128,2))\n",
    "model.add(Conv1D(128,2))\n",
    "model.add(MaxPooling1D(1))\n",
    "\n",
    "#model.add(LSTM(32, activation = 'relu', return_sequences=True))\n",
    "#model.add(LSTM(16, return_sequences=True))  # returns a sequence of vectors of dimension 16\n",
    "model.add(Flatten())\n",
    "model.add(Dense(64, activation='relu'))\n",
    "model.add(Dropout(rate=0.2))\n",
    "model.add(Dense(32, activation='relu'))\n",
    "model.add(Dropout(rate=0.2))\n",
    "\n",
    "model.add(Dense(1,activation='sigmoid'))\n",
    "optimizer = Adam(learning_rate=learning_rate)\n",
    "#model.compile(loss='binary_crossentropy', optimizer=optimizer,metrics=['accuracy'])\n",
    "model.compile(loss='binary_crossentropy', optimizer=optimizer,metrics=[keras.metrics.AUC(name='auc')])\n",
    "\n",
    "\n",
    "history = model.fit(X_train_cnn,\n",
    "                    y_train,\n",
    "                    batch_size=batch_size,\n",
    "                    steps_per_epoch=X_train.shape[0] // batch_size,\n",
    "                    epochs=epochs,\n",
    "                    validation_data=(X_test_cnn,y_test),\n",
    "                    callbacks = [model_save, early_stop, reduce_lr],)"
   ]
  },
  {
   "cell_type": "code",
   "execution_count": null,
   "metadata": {
    "papermill": {
     "duration": 68.584872,
     "end_time": "2021-11-30T00:05:52.86964",
     "exception": false,
     "start_time": "2021-11-30T00:04:44.284768",
     "status": "completed"
    },
    "tags": []
   },
   "outputs": [],
   "source": [
    "# Evaluation"
   ]
  },
  {
   "cell_type": "code",
   "execution_count": null,
   "metadata": {
    "execution": {
     "iopub.execute_input": "2022-02-18T18:03:18.471215Z",
     "iopub.status.busy": "2022-02-18T18:03:18.470956Z",
     "iopub.status.idle": "2022-02-18T18:03:34.8808Z",
     "shell.execute_reply": "2022-02-18T18:03:34.880005Z",
     "shell.execute_reply.started": "2022-02-18T18:03:18.471179Z"
    },
    "papermill": {
     "duration": 71.190409,
     "end_time": "2021-11-30T00:08:12.413056",
     "exception": false,
     "start_time": "2021-11-30T00:07:01.222647",
     "status": "completed"
    },
    "tags": []
   },
   "outputs": [],
   "source": [
    "y_pred = model.predict(X_test_cnn, batch_size=512)\n",
    "AUC = metrics.roc_auc_score(y_test,y_pred)\n",
    "print(\"AUC: {:.3f}\".format(AUC))"
   ]
  },
  {
   "cell_type": "code",
   "execution_count": null,
   "metadata": {
    "execution": {
     "iopub.execute_input": "2022-02-18T18:03:34.882261Z",
     "iopub.status.busy": "2022-02-18T18:03:34.882008Z",
     "iopub.status.idle": "2022-02-18T18:03:34.891121Z",
     "shell.execute_reply": "2022-02-18T18:03:34.890361Z",
     "shell.execute_reply.started": "2022-02-18T18:03:34.882225Z"
    },
    "papermill": {
     "duration": 68.329157,
     "end_time": "2021-11-30T00:10:29.246516",
     "exception": false,
     "start_time": "2021-11-30T00:09:20.917359",
     "status": "completed"
    },
    "tags": []
   },
   "outputs": [],
   "source": [
    "hist_df = pd.DataFrame(history.history)\n",
    "hist_df.to_csv('history.csv')"
   ]
  },
  {
   "cell_type": "code",
   "execution_count": null,
   "metadata": {
    "papermill": {
     "duration": 68.528895,
     "end_time": "2021-11-30T00:12:46.257436",
     "exception": false,
     "start_time": "2021-11-30T00:11:37.728541",
     "status": "completed"
    },
    "tags": []
   },
   "outputs": [],
   "source": [
    "### Training Curves"
   ]
  },
  {
   "cell_type": "code",
   "execution_count": null,
   "metadata": {
    "execution": {
     "iopub.execute_input": "2022-02-18T18:03:34.894433Z",
     "iopub.status.busy": "2022-02-18T18:03:34.893119Z",
     "iopub.status.idle": "2022-02-18T18:03:35.136997Z",
     "shell.execute_reply": "2022-02-18T18:03:35.13637Z",
     "shell.execute_reply.started": "2022-02-18T18:03:34.894393Z"
    },
    "papermill": {
     "duration": 68.670865,
     "end_time": "2021-11-30T00:15:03.302107",
     "exception": false,
     "start_time": "2021-11-30T00:13:54.631242",
     "status": "completed"
    },
    "tags": []
   },
   "outputs": [],
   "source": [
    "plt.figure(figsize=(15,5))\n",
    "plt.plot(range(history.epoch[-1]+1),history.history['val_auc'],label='val_auc')\n",
    "plt.plot(range(history.epoch[-1]+1),history.history['auc'],label='auc')\n",
    "plt.title('auc'); plt.xlabel('Epoch'); plt.ylabel('auc');plt.legend(); \n",
    "plt.show()"
   ]
  },
  {
   "cell_type": "code",
   "execution_count": null,
   "metadata": {
    "execution": {
     "iopub.execute_input": "2022-02-18T18:03:35.138588Z",
     "iopub.status.busy": "2022-02-18T18:03:35.138183Z",
     "iopub.status.idle": "2022-02-18T18:03:35.346825Z",
     "shell.execute_reply": "2022-02-18T18:03:35.346134Z",
     "shell.execute_reply.started": "2022-02-18T18:03:35.138551Z"
    },
    "papermill": {
     "duration": 68.761336,
     "end_time": "2021-11-30T00:17:20.38581",
     "exception": false,
     "start_time": "2021-11-30T00:16:11.624474",
     "status": "completed"
    },
    "tags": []
   },
   "outputs": [],
   "source": [
    "plt.figure(figsize=(15,5))\n",
    "plt.plot(range(history.epoch[-1]+1),history.history['val_loss'],label='Val_loss')\n",
    "plt.plot(range(history.epoch[-1]+1),history.history['loss'],label='loss')\n",
    "plt.title('loss'); plt.xlabel('Epoch'); plt.ylabel('loss');plt.legend(); \n",
    "plt.show()"
   ]
  },
  {
   "cell_type": "code",
   "execution_count": null,
   "metadata": {
    "papermill": {
     "duration": 68.292969,
     "end_time": "2021-11-30T00:19:36.714426",
     "exception": false,
     "start_time": "2021-11-30T00:18:28.421457",
     "status": "completed"
    },
    "tags": []
   },
   "outputs": [],
   "source": [
    "### ROC Curve"
   ]
  },
  {
   "cell_type": "code",
   "execution_count": null,
   "metadata": {
    "execution": {
     "iopub.execute_input": "2022-02-18T18:03:35.348708Z",
     "iopub.status.busy": "2022-02-18T18:03:35.348231Z",
     "iopub.status.idle": "2022-02-18T18:03:35.82584Z",
     "shell.execute_reply": "2022-02-18T18:03:35.825162Z",
     "shell.execute_reply.started": "2022-02-18T18:03:35.348669Z"
    },
    "papermill": {
     "duration": 68.956713,
     "end_time": "2021-11-30T00:21:54.123494",
     "exception": false,
     "start_time": "2021-11-30T00:20:45.166781",
     "status": "completed"
    },
    "tags": []
   },
   "outputs": [],
   "source": [
    "def generate_results(y_test, y_score):\n",
    "    # print(y_score)\n",
    "    fpr, tpr, _ = roc_curve(y_test, y_score)\n",
    "    roc_auc = auc(fpr, tpr)\n",
    "    plt.figure()\n",
    "    plt.plot(fpr, tpr, color='darkorange',\n",
    "             lw=2, label='ROC curve (area = %0.2f)' % roc_auc)\n",
    "    plt.plot([0, 1], [0, 1], color='navy', lw=2, linestyle='--')\n",
    "    plt.xlim([0.0, 1.0])\n",
    "    plt.ylim([0.0, 1.05])\n",
    "    plt.xlabel('False Positive Rate')\n",
    "    plt.ylabel('True Positive Rate')\n",
    "    plt.title('ROC Curve')\n",
    "    plt.legend(loc=\"lower right\")\n",
    "    plt.show()\n",
    "    \n",
    "generate_results(y_test, y_pred)"
   ]
  },
  {
   "cell_type": "code",
   "execution_count": null,
   "metadata": {},
   "outputs": [],
   "source": []
  }
 ],
 "metadata": {
  "kernelspec": {
   "display_name": "Python 3 (ipykernel)",
   "language": "python",
   "name": "python3"
  },
  "language_info": {
   "codemirror_mode": {
    "name": "ipython",
    "version": 3
   },
   "file_extension": ".py",
   "mimetype": "text/x-python",
   "name": "python",
   "nbconvert_exporter": "python",
   "pygments_lexer": "ipython3",
   "version": "3.9.12"
  }
 },
 "nbformat": 4,
 "nbformat_minor": 4
}
